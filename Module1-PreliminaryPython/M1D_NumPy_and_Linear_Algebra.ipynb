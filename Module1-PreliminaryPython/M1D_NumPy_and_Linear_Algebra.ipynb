{
 "cells": [
  {
   "cell_type": "markdown",
   "metadata": {
    "id": "4nmji1trStg4"
   },
   "source": [
    "<html>\n",
    "    <summary></summary>\n",
    "    <p float=\"left\">\n",
    "         <div> <p></p> </div>\n",
    "         <div style=\"font-size: 20px; width: 800px;\">\n",
    "              <h1>\n",
    "               <left>Linear Algebra in Python </left>\n",
    "              </h1>\n",
    "              <p><left>============================================================================</left> </p>              \n",
    "             <pre>Course: BIOM/CBE 480A5, Spring 2025\n",
    "Instructor: Dr. Brian Munsky\n",
    "Contact Info: munsky@colostate.edu\n",
    "Authors: Will Raymond, Dr. Luis Aguilera, Dr. Brian Munsky\n",
    "</pre>\n",
    "         </div>\n",
    "    </p>\n",
    "\n",
    "</html>\n",
    "\n",
    "\n",
    "\n",
    "<details>\n",
    "  <summary>Copyright info</summary>\n",
    "\n",
    "```\n",
    "Copyright 2023 Brian Munsky\n",
    "\n",
    "Redistribution and use in source and binary forms, with or without modification, are permitted provided that the following conditions are met:\n",
    "\n",
    "1. Redistributions of source code must retain the above copyright notice, this list of conditions and the following disclaimer.\n",
    "\n",
    "2. Redistributions in binary form must reproduce the above copyright notice, this list of conditions and the following disclaimer in the documentation and/or other materials provided with the distribution.\n",
    "\n",
    "3. Neither the name of the copyright holder nor the names of its contributors may be used to endorse or promote products derived from this software without specific prior written permission.\n",
    "\n",
    "THIS SOFTWARE IS PROVIDED BY THE COPYRIGHT HOLDERS AND CONTRIBUTORS \"AS IS\" AND ANY EXPRESS OR IMPLIED WARRANTIES, INCLUDING, BUT NOT LIMITED TO, THE IMPLIED WARRANTIES OF MERCHANTABILITY AND FITNESS FOR A PARTICULAR PURPOSE ARE DISCLAIMED. IN NO EVENT SHALL THE COPYRIGHT HOLDER OR CONTRIBUTORS BE LIABLE FOR ANY DIRECT, INDIRECT, INCIDENTAL, SPECIAL, EXEMPLARY, OR CONSEQUENTIAL DAMAGES (INCLUDING, BUT NOT LIMITED TO, PROCUREMENT OF SUBSTITUTE GOODS OR SERVICES; LOSS OF USE, DATA, OR PROFITS; OR BUSINESS INTERRUPTION) HOWEVER CAUSED AND ON ANY THEORY OF LIABILITY, WHETHER IN CONTRACT, STRICT LIABILITY, OR TORT (INCLUDING NEGLIGENCE OR OTHERWISE) ARISING IN ANY WAY OUT OF THE USE OF THIS SOFTWARE, EVEN IF ADVISED OF THE POSSIBILITY OF SUCH DAMAGE.\n",
    "```\n",
    "<details>"
   ]
  },
  {
   "cell_type": "markdown",
   "metadata": {},
   "source": [
    "# **Learning Objectives**\n",
    "\n",
    "In this notebook, we will begin a fast review of linear algebra, while focussing on several tools in NumPy that we will use again and again in this course.  Upon completing this lesson, students will achieve learning objectives to create and solve ```Linear equations``` and to manipulate different types of ```Arrays``` (i.e., vectors, matrices, and tensors). Specifically, when you complete this notebook, you will be able to \n",
    "\n",
    "* Describe the meaning of ```linear equations``` and be able to write them in the form of ```matrices``` and ```vectors```.\n",
    "* Use ```NumPy``` in Python to create different NumPy ```ndarrays``` to represent vectors, matrices, and tensors.\n",
    "* Manipulate NumPy ndarrays using different techniques for ```indexing```, ```reshaping```, ```broadcasting``` and ```reduction``` to focus in on important quantities or perform important calculations.\n",
    "* Solve sets of coupled ```linear equations``` in NumPy.\n",
    "* Recognize and formulate linear equations in augmented matrix form.\n",
    "* Define and test for ```linear independence```."
   ]
  },
  {
   "cell_type": "markdown",
   "metadata": {},
   "source": [
    "# **1. Linear Equations**\n",
    "\n",
    "A **Linear Equation** is an equation that describes a \"straight-line\" relationship between any two variables.  For example:\n",
    " $$ y = ax + b$$\n",
    "describes a linear relationship between the variables $x\\in \\mathbb{R}$ and $y\\in \\mathbb{R}$.  \n",
    "\n",
    "Here, we use the notation $\\mathbb{R}$ to denote the set of real numbers.  The variables $a$ and $b$ are the parameters of the equation.  The parameter $a$ is describes the ```slope``` of the line for how $y$ changes with respect to $x$ and the parameter $b$ is the ```bias``` or the ```y-intercept``` of the line (i.e., the value of $y$ when $x$ is equal to zero). Let's see what this might look like.\n",
    "\n",
    "Before we can work with these equations, we need to load some functions by running the next cell."
   ]
  },
  {
   "cell_type": "code",
   "execution_count": 3,
   "metadata": {},
   "outputs": [],
   "source": [
    "# First, lets import numpy and matplot lib and set some options for plotting.\n",
    "import numpy as np\n",
    "import matplotlib.pyplot as plt\n",
    "import os, sys\n",
    "import importlib\n",
    "# add the path ../BIOM480A5 to the system path\n",
    "try:\n",
    "    os.listdir(os.path.abspath('../BIOM480A5'))\n",
    "    BIOM480A5_path = os.path.abspath('../BIOM480A5')\n",
    "except:\n",
    "    os.listdir(os.path.abspath('BIOM480A5'))\n",
    "    BIOM480A5_path = os.path.abspath('BIOM480A5')\n",
    "sys.path.append(BIOM480A5_path)\n",
    "import BIOM480A5_Quizzes\n",
    "\n",
    "# Plotting style - here we set some options for plotting later in this notebook.\n",
    "import matplotlib.pyplot as plt\n",
    "from cycler import cycler\n",
    "import matplotlib.cm as cm\n",
    "from matplotlib.lines import Line2D\n",
    "colors = ['#ef476f', '#06d6a0','#7400b8','#073b4c', '#118ab2',]\n",
    "#colors = ['#fa8174', '#b3de69', '#bc82bd','#ccebc4','#ffed6f','#81b1d2']\n",
    "font = {'family' : 'monospace',\n",
    "    'weight' : 'bold',\n",
    "    'size'   : 12}\n",
    "plt.rcParams.update({'font.size': 12, 'font.weight':'bold', 'font.family':'monospace'  }   )\n",
    "plt.rcParams.update({'axes.prop_cycle':cycler(color=colors)})\n",
    "plt.rcParams.update({'axes.prop_cycle':cycler(color=colors)})\n",
    "plt.rcParams.update({'axes.prop_cycle':cycler(color=colors)})\n",
    "plt.rcParams.update({'xtick.major.width'   : 2.8 })\n",
    "plt.rcParams.update({'xtick.labelsize'   : 12 })\n",
    "plt.rcParams.update({'ytick.major.width'   : 2.8 })\n",
    "plt.rcParams.update({'ytick.labelsize'   : 12})\n",
    "plt.rcParams.update({'axes.titleweight'   : 'bold'})\n",
    "plt.rcParams.update({'axes.titlesize'   : 10})\n",
    "plt.rcParams.update({'axes.labelweight'   : 'bold'})\n",
    "plt.rcParams.update({'axes.labelsize'   : 12})\n",
    "plt.rcParams.update({'axes.linewidth':2.8})\n",
    "plt.rcParams.update({'axes.labelpad':8})\n",
    "plt.rcParams.update({'axes.titlepad':10})  "
   ]
  },
  {
   "cell_type": "markdown",
   "metadata": {},
   "source": [
    "### **1.A. Plotting the line corrsponding to a linear equation in Python**"
   ]
  },
  {
   "cell_type": "code",
   "execution_count": null,
   "metadata": {},
   "outputs": [],
   "source": [
    "# Now to make a plot of our line.\n",
    "# # make a numpy array x with 100 values from -5 to 5\n",
    "x = np.linspace(-5, 5, 100)\n",
    "a = 2\n",
    "b = 5\n",
    "\n",
    "# make a numpy array y that is the line a*x + 1\n",
    "y = a * x + b\n",
    "\n",
    "# plot y vs. x\n",
    "plt.plot(x, y)\n",
    "# label the x and y axes\n",
    "plt.xlabel('x')\n",
    "plt.ylabel('y')\n",
    "\n",
    "# draw a horizontal dashed line at y=b and a vertical dashed line at x=0 to demonstrate the intercepts.\n",
    "plt.axhline(y=b, color='k', linestyle='--')\n",
    "plt.axvline(x=0, color='k', linestyle='--')\n",
    "\n",
    "# draw a diagonal dashed line through the origin to demonstrate the slope.\n",
    "plt.plot(x, a*x, linestyle='--', color='c')\n",
    "\n",
    "# add a legend\n",
    "plt.legend(['y = ax + b', 'y-intercept', 'x-intercept', 'y = ax (same slope)'])\n",
    "\n"
   ]
  },
  {
   "cell_type": "markdown",
   "metadata": {},
   "source": [
    "## **1.B. Multiple Linear Equations**\n",
    "In the previous example, we had a single linear equation with a single independent variable, $x\\in \\mathbb{R}$ and a single dependent variable, $y\\in \\mathbb{R}$. More generally, we can describe a set of many linear equations, where the input is a vector $x\\in \\mathbb{R}^n$ and the output is a vector $y\\in \\mathbb{R}^m$, and we can write the system of equations in matrix form as $$\\mathbf{y} = \\mathbf{Ax} + \\mathbf{b},$$ where $\\mathbf{b}\\in \\mathbb{R}^{m\\times 1}$ is the ```bias``` vector (i.e., the values of $\\mathbf{y}$ when all values of $\\mathbf{x}$ are zero) and $\\mathbf{A}\\in \\mathbb{R}^{m\\times n}$ is the ```matrix of coefficients``` that maps changes in the input vector $\\mathbf{x}$ (relative to zero) to corresponding changes in the output vector $\\mathbf{y}$ (relative to $\\mathbf{b})$.\n",
    "\n",
    "### Other Ways or Writing Linear Equations\n",
    "The matrix form shown here is equivalent to writing $m$ different equations, such as:\n",
    "$$\\begin{matrix} \n",
    "y_1 = a_{11}x_1 + \\ldots + a_{1n}x_n + b_1\\\\\n",
    "y_2 = a_{21}x_1 + \\ldots + a_{2n}x_n + b_2\\\\\n",
    "\\vdots\\\\\n",
    "y_m = a_{m1}x_1 + \\ldots + a_{mn}x_n + b_m,\n",
    "\\end{matrix}\n",
    "$$\n",
    "where \n",
    "\n",
    "$$\\mathbf{x} = \n",
    "\\left[\\begin{matrix} \n",
    "x_1\\\\\n",
    "x_2\\\\\n",
    "\\vdots\\\\\n",
    "x_{n}\n",
    "\\end{matrix}\\right],\\ \n",
    " \\mathbf{y} = \n",
    "\\left[\\begin{matrix} \n",
    "y_1\\\\\n",
    "y_2\\\\\n",
    "\\vdots\\\\\n",
    "y_{m}\n",
    "\\end{matrix}\\right],\\ \n",
    " \\mathbf{b} = \n",
    "\\left[\\begin{matrix} \n",
    "b_1\\\\\n",
    "b_2\\\\\n",
    "\\vdots\\\\\n",
    "b_{m}\n",
    "\\end{matrix}\\right],\\ \\text{and }\n",
    "\\mathbf{A} = \n",
    "\\left[\\begin{matrix} \n",
    "a_{11}&a_{12}& \\ldots &a_{1n}\\\\ \n",
    "a_{21}&a_{22}&\\ldots &a_{2n}\\\\ \n",
    "\\ldots &\\ldots &\\ldots &\\ldots\\\\\n",
    "a_{m1}&a_{m2}&\\ldots &a_{mn}\n",
    " \\end{matrix}\\right]\n",
    "$$\n",
    "\n",
    "In additon to the matrix and individual equation forms, there are also other common ways to describe these equations:\n",
    "\n",
    "In **column form**, we write:\n",
    "$${\\mathbf{y}}  = \n",
    "\\sum_{j=1}^n \n",
    "\\mathbf{A}_j x_j,$$\n",
    "where $\\mathbf{A}_j$ represent the different columns of the matrix $\\mathbf{A}$ (e.g., $\\mathbf{A} = \n",
    "\\left[\\begin{matrix} \n",
    "\\mathbf{A}_1 & \\mathbf{A}_2 &\\ldots &\\mathbf{A}_n \\end{matrix}\\right]$\n",
    ")\n",
    "\n",
    "In **row form**, we write: \n",
    "$${\\mathbf{y}}  = \n",
    "\\left[\\begin{matrix}\n",
    "\\tilde{\\mathbf{A}}_1 \\mathbf{x}\\\\\n",
    "\\tilde{\\mathbf{A}}_2 \\mathbf{x}\\\\\n",
    "\\vdots\\\\\n",
    "\\tilde{\\mathbf{A}}_m \\mathbf{x}\n",
    "\\end{matrix}\\right],\\text{ where } {\\mathbf{A}}  = \n",
    "\\left[\\begin{matrix}\n",
    "\\tilde{\\mathbf{A}}_1\\\\\n",
    "\\tilde{\\mathbf{A}}_2 \\\\\n",
    "\\vdots\\\\\n",
    "\\tilde{\\mathbf{A}}_m\n",
    "\\end{matrix}\\right],$$\n",
    "and $\\tilde{\\mathbf{A}}_i$ represents the $i^{\\rm th}$ row of the matrix $\\mathbf{A}$.\n",
    "\n",
    "For the rest of this notebook, we are going to be working with these kinds of equations, but first we need to introduce some useful python tools."
   ]
  },
  {
   "cell_type": "markdown",
   "metadata": {},
   "source": []
  },
  {
   "cell_type": "markdown",
   "metadata": {
    "id": "hKUM83zzMfrg"
   },
   "source": [
    "# **2. Basic NumPy**\n",
    "\n",
    "<html>\n",
    "<summary></summary>\n",
    "<p float=\"left\">\n",
    "<img align=\"left\" src=\"https://numpy.org/images/logo.svg\" width=\"150\" height=\"150\">\n",
    "</p>\n",
    "</html>\n",
    "\n",
    "In this notebook, we are going to work with linear equations, like those defined above.  And to help us in that process, we are going to use one of the most widely used data manipulation packages within Python, ```Numpy```!\n",
    "\n",
    "```numpy``` and ```scipy``` are ubiquitous in the world of scientific computing in Python. ```NumPy```, short for Numeric Python, is a library provides access to a lot of generalized array functions for linear algebra or manipulation that is not available with the standard list typing in Python. In addition to providing its powerful ```ndarray``` type, ```numpy``` also includes a myriad of packages for random simulation, basic statistics, sorting, and various matrix transforms. \n",
    "\n",
    "The core of numpy is the array, ```ndarray```, so let's take a look at that first. \n",
    "\n",
    "------\n",
    "\n",
    "You can also read more about these operations in the textbook:\n",
    "```Reading: Kinder, Nelson Section 2```"
   ]
  },
  {
   "cell_type": "markdown",
   "metadata": {
    "id": "F62JOW7VKQpc"
   },
   "source": [
    "## **2.A.  Making your first array**\n",
    "\n",
    "There are multiple ways of making an array, but one of the easiest is to first generate a list or list of lists, or even a list of lists of lists, and then pass this to ```np.array``` .\n",
    "\n",
    "Let's try it."
   ]
  },
  {
   "cell_type": "code",
   "execution_count": null,
   "metadata": {
    "colab": {
     "base_uri": "https://localhost:8080/"
    },
    "id": "7enN7MQdc_6a",
    "outputId": "1da912d6-4dd9-4a9a-b6dd-4934f5e27bee"
   },
   "outputs": [],
   "source": [
    "# Let's start witha simple numpy array corresponding to an n-dimensional vector (like 'x' in the introduction).\n",
    "my_list = [0,1,2,3,4]\n",
    "my_np_array = np.array(my_list)\n",
    "\n",
    "print(my_np_array)"
   ]
  },
  {
   "cell_type": "markdown",
   "metadata": {},
   "source": [
    "## **2.B. Overview of Methods for ndarrays**\n",
    "\n",
    "Recall that python objects can have lots of methods or functions that can operate on the object data.  Let's look what at what is avaialble in numpy's ```ndarray```."
   ]
  },
  {
   "cell_type": "code",
   "execution_count": null,
   "metadata": {
    "colab": {
     "base_uri": "https://localhost:8080/"
    },
    "id": "QvBE6-bdUmv7",
    "outputId": "134dc79f-4b34-43b0-e1c6-bdec8fe0d145"
   },
   "outputs": [],
   "source": [
    "#Now that we have this ndarray, let's compare its methods to those of lists that we saw in a previous module.\n",
    "print('The callable functions of np_arrays are:')\n",
    "print([f for f in dir(my_np_array) if not f.startswith(\"_\")])\n",
    "print('The callable functions of lists are:')\n",
    "print([f for f in dir(my_list) if not f.startswith(\"_\")])"
   ]
  },
  {
   "cell_type": "markdown",
   "metadata": {
    "id": "9DKQJ6PQPC1z"
   },
   "source": [
    "\n",
    "Numpy arrays have way more functions associated with them than a regular list! Let's take a look at some of the more commonly used ones:\n",
    "\n",
    "Now that we have an array in memory, we can call functons to look at of it features. \n",
    "\n",
    "How big is it? What is its shape?  ```numpy``` has some useful methods to get information for all of these and many more.\n",
    "\n",
    "Here's some common ones:\n",
    "\n",
    "given ```arr = np.array([[0,1,2,3,4]])```\n",
    "\n",
    "| Method    | Description  | Result\n",
    "| ----------- | ----------- | ------------ |\n",
    "| arr.shape   |  returns a tuple of the size of each dimensions | ```(1,5) ```   |\n",
    "| arr.ndim | number of dimensions |```2 ```   |\n",
    "| arr.dtype   |  the datatype of the info inside the array | ```dtype('int64') ```    \n",
    "| arr.size | integer total entries of this array | ```5```  |  \n",
    "| arr.nbytes | the number of bytes in RAM consumed by storing only the information inside the array | ``` 40 ```|\n",
    "\n",
    "Let's try them out on our ndarray."
   ]
  },
  {
   "cell_type": "code",
   "execution_count": null,
   "metadata": {
    "cellView": "form",
    "colab": {
     "base_uri": "https://localhost:8080/"
    },
    "id": "vPnY4LuYO8bM",
    "outputId": "7ead1820-c5fc-4e49-f895-dcad3eed6e61"
   },
   "outputs": [],
   "source": [
    "# Let's start with a simple numpy array corresponding to an n-dimensional vector (like 'x' in the introduction).\n",
    "arr = np.array([[0,1,2,3,4]])\n",
    "\n",
    "# Here are some descriptions of the attributes of the array arranged in a dictionary with the attribute as the key,\n",
    "# and a description of the attribute as the value.\n",
    "desc = {'shape': '',\n",
    "    'ndim': 'dimensions',\n",
    "    'dtype': '',\n",
    "    'size': 'elements',\n",
    "    'nbytes':'bytes'}\n",
    "\n",
    "# And here are the results of the methods of the array arranged in a dictionary with the method as the key,\n",
    "# and the result of the method as the value.\n",
    "arr_methods = {'shape': arr.shape,\n",
    "    'ndim':arr.ndim,\n",
    "    'dtype':arr.dtype,\n",
    "    'size':arr.size,\n",
    "    'nbytes':arr.nbytes}\n",
    "\n",
    "# Now, let's run a loop to print out the results of the methods of the array.\n",
    "for x in [\"shape\", \"ndim\", \"dtype\",\"size\",\"nbytes\"]:\n",
    "    dropdown = x\n",
    "\n",
    "    print('The %s of the array is %s %s' % (dropdown, str(arr_methods[dropdown]), desc[dropdown] ))\n",
    "\n"
   ]
  },
  {
   "cell_type": "markdown",
   "metadata": {},
   "source": [
    "Try to adde a few more methods to the dictionaries above.  You can find a list of methods here:\n",
    " https://numpy.org/doc/stable/reference/arrays.ndarray.html#array-methods"
   ]
  },
  {
   "cell_type": "markdown",
   "metadata": {
    "id": "6PKZyosKS8nD"
   },
   "source": [
    "## **2.C.  Array allocation methods**\n",
    "\n",
    "```numpy``` also has some nice methods to preallocate arrays of any size or shape you wish, that you can then fill later with some values.\n",
    "\n",
    "| Method    | Description  | Examples  | Result\n",
    "| ----------- | ----------- | ------------ | ------------ |\n",
    "| np.zeros([n1,n2...]) |  Returns an ndim array of zeros  | ```np.zeros([10,10,10]) ```   | a (10 x 10 x 10) 3d array of zeros\n",
    "| np.ones([n1,n2...]) | Returns an ndim array of ones  |```np.ones([3,5]) ```   | a (3 x 5) 2d array of ones |\n",
    "| np.array([n1,n2...]) | converts an iterable to an array | ``np.array([1,2,3])``  |  a 1d array of [1,2,3] |\n",
    "| np.empty([n1,n2...]) | an empty ndim array | ``` np.empty([3,3]) ```| a (3 x 3) empty array - note values will be from whatever memory it allocated.\n",
    "\n",
    "Specific cases for easily allocating ranges/identity matrix\n",
    "\n",
    "| Method    | Description  | Examples  \n",
    "| ----------- | ----------- | ------------ |\n",
    "| np.linspace(start, stop, n_steps) | returns a linearly spaced array from start to stop with n_steps | ```np.linspace(0,10,11) ```  |  \n",
    "| np.logspace(start, stop, n_steps) | returns a linearly spaced array from 10^start to 10^stop with n_step | ``` np.logspace(0,10,11)```|\n",
    "| np.arange(stop,) | returns a linearly spaced array from a given start or 0 to stop with integer steps (or optional step sizes) | ``` np.arange(10)```  |\n",
    "| np.eye(N)   | gives a 2d identify matrix of NxN|  ```np.eye(3) ```   | a (3 x 3) identity matrix (diagonals are 1)\n",
    "\n",
    "Let's try some of these out."
   ]
  },
  {
   "cell_type": "code",
   "execution_count": null,
   "metadata": {
    "colab": {
     "base_uri": "https://localhost:8080/"
    },
    "id": "fs7v6BGRbMYg",
    "outputId": "fe1d70ce-5385-47ad-f15c-724fc7838d7a"
   },
   "outputs": [],
   "source": [
    "# Here are some common 3x3 arrays.\n",
    "print(f'np.zeros([3,3]) makes an array of zeros:\\n {np.zeros([3,3])}')\n",
    "print(f'np.ones([3,3]) makes an array of ones:\\n {np.ones([3,3])}')\n",
    "print(f'np.eye(3) makes an identity matrix:\\n {np.eye(3)}')\n",
    "print(f'np.random.rand(3,3) makes a random array:\\n {np.random.rand(3,3)}')\n"
   ]
  },
  {
   "cell_type": "code",
   "execution_count": null,
   "metadata": {},
   "outputs": [],
   "source": [
    "# Here is a way to make a 3x3 array using a list of lists.\n",
    "list_of_lists = [ [y for y in range(3*x,3*x+3)] for x in range(0,3)]\n",
    "print('np.array() of a list of lists')\n",
    "print(np.array(list_of_lists ))"
   ]
  },
  {
   "cell_type": "code",
   "execution_count": null,
   "metadata": {
    "colab": {
     "base_uri": "https://localhost:8080/"
    },
    "id": "_7DYx1D5cxLl",
    "outputId": "aee5e426-84aa-4960-a485-fb77f1c0a65c"
   },
   "outputs": [],
   "source": [
    "# Here is a way to make an an orderred array using linspace:\n",
    "start = 3.5\n",
    "stop = 14\n",
    "n_steps = 49\n",
    "\n",
    "print('np.linspace(start, stop, n_steps):')\n",
    "print(np.linspace(start, stop, n_steps))\n",
    "\n",
    "# We can also do it in logarithmic space:\n",
    "print('\\nnp.logspace(log10(start), log10(stop), n_steps -- in logspace):')\n",
    "print(np.logspace(np.log10(start), np.log10(stop), n_steps))\n",
    "\n",
    "# We can also do it in integer space starting at 0 using the np.arange() function:\n",
    "print('\\nnp.arange(stop):')\n",
    "print(np.arange(stop))\n",
    "\n",
    "# We can also do it in integer space starting at `start' using the np.arange() function:\n",
    "print('\\nnp.arange(start, stop):')\n",
    "print(np.arange(start, stop))"
   ]
  },
  {
   "cell_type": "markdown",
   "metadata": {},
   "source": [
    "***Note that when you use ```np.arrange```, the start can be a float, and the stop is not included in the array.*** \n",
    "\n",
    "### **Practice your understanding for numpy arrays**\n",
    "\n",
    "Complete the following quiz to practice your understanding of ```numpy``` arrays."
   ]
  },
  {
   "cell_type": "code",
   "execution_count": null,
   "metadata": {},
   "outputs": [],
   "source": [
    "importlib.reload(BIOM480A5_Quizzes)\n",
    "from BIOM480A5_Quizzes import multiple_choice_quiz\n",
    "multiple_choice_quiz('numpy_arrays')"
   ]
  },
  {
   "cell_type": "markdown",
   "metadata": {
    "id": "dlES1vmKbOeS"
   },
   "source": [
    "## **2.D.  Array Manipulation using Slicing and Indexing**\n",
    "\n",
    "Just like we previously saw for lists, we will need to know how to ```index``` and ```slice``` numpy arrays. In addition to these, we will want to apply more mathematical operations known as ```broadcasting``` and ```reduction```."
   ]
  },
  {
   "cell_type": "markdown",
   "metadata": {},
   "source": [
    "Each dimension in a ```numpy``` array can be sliced or indexed just like we did previousy for python list:\n",
    "\n",
    "**array[ row, column, ...., n ]**\n",
    "\n",
    "For example, consider this array:\n",
    "\n",
    "```\n",
    "arr = np.array([[1,2,3], \\\n",
    "                [4,5,6], \\\n",
    "                [7,8,9]])\n",
    "```\n",
    "\n",
    "| Example    | Description  | Result  \n",
    "| ----------- | ----------- | ------------ |\n",
    "| arr[0] | row 0 | ``` [1,2,3] ```  |  \n",
    "| arr[0,0]| element in row 0, column 0 | ``` [1]```|\n",
    "| arr[:,0]| column 0 | ``` [1,4,7]```|\n",
    "| arr[0:2,0:2]| top left block of size 2 x 2 | ``` array([[1,2],[4,5]])```|\n",
    "| arr[::-1]| reverses the rows | ```[[7,8,9],[4,5,6],[1,2,3]] ```|\n",
    "| arr[::-1, ::-1]| reverses the rows AND columns | ```[[9,8,7],[6,5,4],[3,2,1]] ```|\n",
    "\n",
    "\n",
    "### **2.D.1. Indexing Arrays using Logicals**\n",
    "\n",
    "```numpy``` arrays will accept ```logical indexing``` or any indexing as long as the shape and maximum indices make sense for the original matrix.\n",
    "\n",
    "```Logical indexing```, also known as ```boolean indexing```, is a technique in Python (and other programming languages) used to select elements from an array or a sequence based on a condition. This condition is typically represented as a boolean array, where ```True``` indicates that the corresponding element should be selected, and ```False``` indicates that it should not.  In python, you can apply logical indexing to any or all of the dimensions of the original nparray.\n",
    "\n",
    "| Example    | Description  | Result  \n",
    "| ----------- | ----------- | ------------ |\n",
    "| arr[arr > 5 ]| returns all elements greater than 5| ```array([6, 7, 8, 9]) ```|  \n",
    "| arr[1][arr[1] > 5 ]| returns all elements in row 1 greater than 5| ```array([6]) ```|  \n",
    "\n",
    "In the first example, the indexing is over the whole matrix, and only the elements that satisfy the conditioons are returned. In the second example, the first row is selected first, and then logical indexing is only over the entries in that row.\n",
    "\n",
    "### **2.D.2. Other common manipulation methods:**\n",
    "\n",
    "| Method    | Description  | Examples  \n",
    "| ----------- | ----------- | ------------ |\n",
    "| arr.reshape() | will resize an array, the new size must have the same amount of elements!| ```arr.resize(1,9)```  |  \n",
    "| arr.T | transposes the array | ``` arr.T```|\n",
    "| np.expand_dims(array, axis) | adds an axis to a given array| ``` np.expand_dims(arr,axis=0)```|\n",
    "| arr.flatten()   | flattens an array to 1 dimension |  ```arr.flatten()```   |\n",
    "| np.diag(array,offset)   | gets the diagonal of an array based on offset from middle diag |  ```np.diag(arr,0)```   |\n",
    "| np.where(statement)   | returns indexes matching the statement |  ```np.where(arr < 5)```   |\n",
    "| np.at_least2d(arr)   | adds an axis to a 1d array if needed, leaves any ndim >= 2 alone|  ```np.atleast_2d(arr)```   |\n",
    "| np.tile(iterable, N) | repeat an iterable object N times along an axis | ``` np.tile(arr, N)```|\n",
    "| np.hstack(iterable of iterables) |Horizontally stack the arrays provided in an iterable (list of arrays) | ```np.hstack([arr1,arr2])``` |\n",
    "| np.vstack(iterable of iterables) | Vertically stack the arrays provided in an iterable (list of arrays) | ```np.vstack([arr1,arr2])```|\n",
    "| ___.astype(dtype) | convert a given array to a particular data type | ```np.array([1.2,1.4,1.5]).astype(int)```|\n",
    "| ___.tolist() | convert a given array to a python list or lists of lists| ```np.array([1.2,1.4,1.5]).tolist()```|"
   ]
  },
  {
   "cell_type": "code",
   "execution_count": 4,
   "metadata": {
    "colab": {
     "base_uri": "https://localhost:8080/"
    },
    "id": "8NYrjNUngD-1",
    "outputId": "5fda1706-12f8-44dc-c621-4ffc62253f46"
   },
   "outputs": [
    {
     "name": "stdout",
     "output_type": "stream",
     "text": [
      "\n",
      "Original:\n",
      "[[1 2 3]\n",
      " [4 5 6]\n",
      " [7 8 9]]\n"
     ]
    }
   ],
   "source": [
    "# Let's try some of those out.\n",
    "arr = np.array([[1,2,3], \\\n",
    "                [4,5,6], \\\n",
    "                [7,8,9]])\n",
    "print('\\nOriginal:')\n",
    "print(arr)"
   ]
  },
  {
   "cell_type": "code",
   "execution_count": null,
   "metadata": {},
   "outputs": [],
   "source": [
    "# reshaping the array\n",
    "print('\\nReshaped:')\n",
    "print(arr.reshape(1,9))"
   ]
  },
  {
   "cell_type": "code",
   "execution_count": null,
   "metadata": {},
   "outputs": [],
   "source": [
    "# flattening the array\n",
    "print('\\nFlattened:')\n",
    "print(arr.flatten())"
   ]
  },
  {
   "cell_type": "code",
   "execution_count": null,
   "metadata": {},
   "outputs": [],
   "source": [
    "# transposing the array\n",
    "print('\\nTranspose:')\n",
    "print(arr.T)"
   ]
  },
  {
   "cell_type": "code",
   "execution_count": null,
   "metadata": {},
   "outputs": [],
   "source": [
    "# Adding an extra dimension to the front of the array.\n",
    "print('\\nadd an extra dimension to the FRONT:')\n",
    "print(np.expand_dims(arr, axis=0))\n",
    "\n",
    "# Adding an extra dimension to the end of the array.\n",
    "print('\\nadd an extra dimension to the END:')\n",
    "print(np.expand_dims(arr, axis=2))\n",
    "\n",
    "# Adding an extra dimension to the middle of the array.\n",
    "print('\\nadd an extra dimension to the MIDDLE:')\n",
    "print(np.expand_dims(arr, axis=1))\n",
    "\n",
    "# Note that this increases the number of dimensions by one, but does not change the lenghts in the other dimensions."
   ]
  },
  {
   "cell_type": "code",
   "execution_count": 5,
   "metadata": {},
   "outputs": [
    {
     "name": "stdout",
     "output_type": "stream",
     "text": [
      "\n",
      "middle diagonal:\n",
      "[1 5 9]\n",
      "\n",
      "above middle diagonal:\n",
      "[2 6]\n"
     ]
    }
   ],
   "source": [
    "# Grab the middle diagonal of a rectangular array.\n",
    "print('\\nmiddle diagonal:')\n",
    "print(np.diag(arr, 0))\n",
    "\n",
    "# Grab the diagonal just above the middle diagonal of a rectangular array.\n",
    "print('\\nabove middle diagonal:')\n",
    "print(np.diag(arr, 1))"
   ]
  },
  {
   "cell_type": "code",
   "execution_count": 9,
   "metadata": {},
   "outputs": [
    {
     "name": "stdout",
     "output_type": "stream",
     "text": [
      "\n",
      "indexes of array where the element is less than 5:\n",
      "rows:    [0 0 0 1]\n",
      "columns: [0 1 2 0]\n"
     ]
    }
   ],
   "source": [
    "# Find which elements are less than 5 using the np.where() function.\n",
    "print('\\nindexes of array where the element is less than 5:')\n",
    "row,col = np.where(arr < 5)\n",
    "print(f'rows:    {row}')\n",
    "print(f'columns: {col}')"
   ]
  },
  {
   "cell_type": "code",
   "execution_count": null,
   "metadata": {},
   "outputs": [],
   "source": [
    "# Change the data type to float64 (i.e, double precision floating point).\n",
    "print('\\nconvert the array to the floating point datatype')\n",
    "print(arr.astype(np.float64))"
   ]
  },
  {
   "cell_type": "code",
   "execution_count": null,
   "metadata": {},
   "outputs": [],
   "source": [
    "# Change the array into a list.\n",
    "print('\\nconvert the array to a python list')\n",
    "print(arr.tolist())"
   ]
  },
  {
   "cell_type": "markdown",
   "metadata": {},
   "source": [
    "### **Quiz to practice some basic numpy array slizing and manipulation commands**"
   ]
  },
  {
   "cell_type": "code",
   "execution_count": null,
   "metadata": {},
   "outputs": [],
   "source": [
    "importlib.reload(BIOM480A5_Quizzes)\n",
    "from BIOM480A5_Quizzes import multiple_choice_quiz\n",
    "multiple_choice_quiz('numpy_slicing')"
   ]
  },
  {
   "cell_type": "markdown",
   "metadata": {},
   "source": [
    "### **2.D.3.  Addiitonal Practice Using Logical Indexing to Manipulate Arrays**\n",
    "When procesing large amounts of data, we often want to perform the same task again and a gain to similar entries in a maxtrix or vector. Logical indexing is a fast and convenient way to accomplish such tasks.\n",
    "\n",
    "Below is an example that is very relevant to image processing.  We will take a matrix and perform a saturation operation that sets any number over a specific threshold to that threshold."
   ]
  },
  {
   "cell_type": "code",
   "execution_count": null,
   "metadata": {},
   "outputs": [],
   "source": [
    "# Example of applying a saturation function to a matrix.\n",
    "\n",
    "#Let's start with a large matrix:\n",
    "A = np.array([ [y for y in range(3*x,3*x+15)] for x in range(0,12)])\n",
    "print(f'Our Original matrix is:\\n {A}')\n",
    "\n",
    "# We will construct a new matrix B that is saturated at a value 15.  \n",
    "# That is, all numbers greater than 15 are set at 15.\n",
    "\n",
    "# Because we do not want to change A itself, we will start by making a copy.\n",
    "B = np.copy(A)\n",
    "\n",
    "# Now we can apply our logic:\n",
    "B[B>15]=15\n",
    "print(f'\\nOur saturated matrix is:\\n {B}')"
   ]
  },
  {
   "cell_type": "code",
   "execution_count": null,
   "metadata": {},
   "outputs": [],
   "source": [
    "# make a contour plot of the matrix A\n",
    "plt.contourf(C)\n",
    "plt.colorbar()\n",
    "plt.title('Original Matrix')\n",
    "plt.show()"
   ]
  },
  {
   "cell_type": "code",
   "execution_count": null,
   "metadata": {},
   "outputs": [],
   "source": [
    "# Let's try another example, but this time we will reflect the values of the matrix about 0 and 15.\n",
    "\n",
    "# This time, we want a matrix 'C' where all values are between 0 and 15, but\n",
    "# when the numbers exceed those limits, we reflect their values (e.g., 17 which is 2 greater than 15\n",
    "# becomes 13 which is two less than 15, or -6 which is 6 less than zero becomes 6).  For very large \n",
    "# or very small numbers, we may need to run multiple rounds of reflection, so we will use a while loop.\n",
    "C = np.copy(A)\n",
    "while (np.max(np.abs(C)))>15:\n",
    "    C[C>15] = 30 - C[C>15]\n",
    "    C[C<0] = -C[C<0]\n",
    "print(f'\\nOur reflected matrix is:\\n {C}')"
   ]
  },
  {
   "cell_type": "markdown",
   "metadata": {},
   "source": [
    "## **2.E. Creating ndarrays using Broadcasting** \n",
    "\n",
    "```Broadcasting``` is a powerful feature in ```NumPy``` that allows operations on arrays of different shapes in a way that would otherwise require making copies of data. It enables element-wise operations without the need for explicit looping or reshaping.\n",
    "\n",
    "**How Broadcasting Works**:\n",
    "* *Alignment*: NumPy aligns the shapes of the arrays by adding dimensions of size 1 where necessary.\n",
    "* *Replication*: NumPy replicates the smaller array along the newly added dimensions to match the shape of the larger array.\n",
    "* *Element-wise Operation*: The operation is performed element-wise on the resulting arrays.\n",
    "\n",
    "**Rules for Broadcasting**:\n",
    "* *Compatibility*: Two dimensions are compatible when they are equal or one of them is 1.\n",
    "* *Shape Alignment*: Starting from the trailing dimensions, NumPy compares the shapes and applies the broadcasting rules.\n",
    "\n",
    "Let's try it out."
   ]
  },
  {
   "cell_type": "code",
   "execution_count": null,
   "metadata": {},
   "outputs": [],
   "source": [
    "# Broadcasting example 1.\n",
    "# We are going to start with a 5x1 array and a 1x3 array, and we will add them \n",
    "# together so that the new array is 5x3, and it will be the sum of the two arrays.\n",
    "A = np.array([[1],[2],[3],[4],[5]])\n",
    "B = np.array([[1,2,3]])\n",
    "\n",
    "print(f'Our original arrays are:\\n A = {A}\\n B = {B}')\n",
    "print(f'The broadcast sum of the two arrays is:\\n {A+B}')"
   ]
  },
  {
   "cell_type": "code",
   "execution_count": null,
   "metadata": {},
   "outputs": [],
   "source": [
    "# Broadcasting example 2.\n",
    "# We are going to start with a 5x3 array and a 1x3 array, and we will now take the\n",
    "# maximum of the two arrays so that the new array is 5x3, and it will be the maximum\n",
    "# of the two arrays.\n",
    "A = np.array([[1,2,3],[4,5,6],[7,8,9],[10,11,12],[13,14,15]])\n",
    "B = np.array([[3,8,1]])\n",
    "\n",
    "print(f'Our original arrays are:\\n A = {A}\\n B = {B}')\n",
    "print(f'The broadcast maximum of the two arrays is:\\n {np.maximum(A,B)}')\n",
    "\n",
    "print('Notice that all the columns of the result are at least as big as the corresponding column of B')"
   ]
  },
  {
   "cell_type": "markdown",
   "metadata": {},
   "source": [
    "At some point in the course, you are going to encounter errors telling you that there is a problem broadcasting.  For example:\n",
    "\n",
    "```ValueError: operands could not be broadcast together with shapes (3,) (2,)```"
   ]
  },
  {
   "cell_type": "code",
   "execution_count": null,
   "metadata": {},
   "outputs": [],
   "source": [
    "# Here is an example that gives a ValueError because the arrays are not compatible for broadcasting.\n",
    "A = np.array([[1,2,3],[4,5,6],[7,8,9],[10,11,12],[13,14,15]])\n",
    "B = np.array([[3,8]])\n",
    "\n",
    "print(f'The broadcast maximum of the two arrays is:\\n {np.maximum(A,B)}')"
   ]
  },
  {
   "cell_type": "markdown",
   "metadata": {},
   "source": [
    "## **2.F. Reducing Arrays using Mathematical Operations**\n",
    "\n",
    "Array ```reduction``` methods in Python, particularly in ```NumPy```, are used to perform operations that reduce the dimensions of an array by ```aggregating``` its elements. These methods typically operate along specified axes and include operations like ```summing```, ```finding``` the minimum or maximum, and computing the mean or other summary statistics. \n",
    "\n",
    "These reduction methods will essential for data analysis and manipulation, allowing you to summarize and aggregate data very efficiently. \n",
    "\n",
    "Please note that these operations can be applied to multi-dimensional arrays by specifying the axis along which the reduction should occur.\n",
    "\n",
    "Here are some common array reduction methods:"
   ]
  },
  {
   "cell_type": "code",
   "execution_count": 7,
   "metadata": {},
   "outputs": [
    {
     "name": "stdout",
     "output_type": "stream",
     "text": [
      "The sum of all the elements of the array is 45\n",
      "The sum of the elements of the array along the columns is [12 15 18]\n",
      "The sum of the elements of the array along the rows is [ 6 15 24]\n"
     ]
    }
   ],
   "source": [
    "# Illustration of common nparray reduction methods\n",
    "\n",
    "# Let's start with a 3x3 array.\n",
    "A = np.array([[1,2,3],[4,5,6],[7,8,9]])\n",
    "\n",
    "# Sum all the elements of the array.\n",
    "print(f'The sum of all the elements of the array is {np.sum(A)}')\n",
    "\n",
    "# Sum the elements of the array along the columns.\n",
    "print(f'The sum of the elements of the array along the columns is {np.sum(A, axis=0)}')\n",
    "\n",
    "# Sum the elements of the array along the rows.\n",
    "print(f'The sum of the elements of the array along the rows is {np.sum(A, axis=1)}')"
   ]
  },
  {
   "cell_type": "code",
   "execution_count": null,
   "metadata": {},
   "outputs": [],
   "source": [
    "# Find the minimum of all the elements of the array.\n",
    "print(f'The minimum of all the elements of the array is {np.min(A)}')\n",
    "\n",
    "# Find the minimum of the elements of the array along the columns.\n",
    "print(f'The minimum of the elements of the array along the columns is {np.min(A, axis=0)}')\n",
    "\n",
    "# Find the maximum of the elements of the array along the rows.\n",
    "print(f'The maximum of the elements of the array along the rows is {np.max(A, axis=1)}')"
   ]
  },
  {
   "cell_type": "code",
   "execution_count": null,
   "metadata": {},
   "outputs": [],
   "source": [
    "# Find the product of all the elements of the array.\n",
    "print(f'The product of all the elements of the array is {np.prod(A)}')\n",
    "\n",
    "# Find the product of the elements of the array along the columns.\n",
    "print(f'The product of the elements of the array along the columns is {np.prod(A, axis=0)}')"
   ]
  },
  {
   "cell_type": "code",
   "execution_count": 8,
   "metadata": {},
   "outputs": [
    {
     "name": "stdout",
     "output_type": "stream",
     "text": [
      "The mean of all the elements of the array is 5.0\n",
      "The standard deviation of the elements of the array along the rows is [0.81649658 0.81649658 0.81649658]\n"
     ]
    }
   ],
   "source": [
    "# Find the mean of all the elements of the array.\n",
    "print(f'The mean of all the elements of the array is {np.mean(A)}')\n",
    "\n",
    "# Find the std of the elements of the array along the rows.\n",
    "print(f'The standard deviation of the elements of the array along the rows is {np.std(A, axis=1)}')"
   ]
  },
  {
   "cell_type": "markdown",
   "metadata": {},
   "source": [
    "## **A Helpful Cheatsheet for Numpy Array Manipulations.**\n",
    "As we wrap up this section on creating and manipulating ndarrays, here is a cheatsheet that shows a many of the tools and techniques we will have explored including ```index```, ```reshape```, ```broadcasting``` and ```reduce```  ndarrays.  You might find this to be a valuable resource.\n",
    "\n",
    "[Numpy Documentation](https://numpy.org/doc/stable/user/whatisnumpy.html)\n",
    "\n",
    "\n",
    "<img align=\"right\" src = \"https://media.springernature.com/full/springer-static/image/art%3A10.1038%2Fs41586-020-2649-2/MediaObjects/41586_2020_2649_Fig1_HTML.png?as=webp\" >"
   ]
  },
  {
   "cell_type": "markdown",
   "metadata": {
    "id": "R6LBk0wFfD4-"
   },
   "source": [
    "## **Questions and practice**\n",
    "Answer the following questions to solidify your understanding of this material. \n",
    "You should now also be able to answer questions Q6 - Q9 in Homework 2."
   ]
  },
  {
   "cell_type": "code",
   "execution_count": 29,
   "metadata": {
    "id": "4kkYmBPkp_hc"
   },
   "outputs": [],
   "source": [
    "## Generate an array of all zeros of shape 3,3,3,3. Double check that the shape is that using\n",
    "## the internal shape function. Convert this array to an integer array."
   ]
  },
  {
   "cell_type": "code",
   "execution_count": 30,
   "metadata": {
    "id": "GWhQdm2kq0he"
   },
   "outputs": [],
   "source": [
    "## Generate a 4x4 Identity matrix and then remove the final row."
   ]
  },
  {
   "cell_type": "code",
   "execution_count": 31,
   "metadata": {
    "id": "_P0fdehbrEeP"
   },
   "outputs": [],
   "source": [
    "## Repeat the following array vertically 5 times to end up with a 5x3 matrix\n",
    "arr1 = np.array([[1,2,3]])"
   ]
  },
  {
   "cell_type": "code",
   "execution_count": 32,
   "metadata": {
    "id": "w0y4HAMgeula"
   },
   "outputs": [],
   "source": [
    "## transpose the following numpy array\n",
    "arr2 = np.array([[1,2,3],\n",
    "                 [4,5,6]])"
   ]
  },
  {
   "cell_type": "code",
   "execution_count": 33,
   "metadata": {
    "id": "hxBIIS_urcM3"
   },
   "outputs": [],
   "source": [
    "## Use array logicals to return a flattened array of values greater than 0 in the following array\n",
    "## Take the sum of all the negative values obtained from the logical operation.\n",
    "arr3 = np.array([[-1, 2, 3, -31, -0.3 ],\n",
    "                 [4, 0, 5, 39.3, -37,]])"
   ]
  },
  {
   "cell_type": "code",
   "execution_count": 34,
   "metadata": {
    "id": "J5N9AFcir26e"
   },
   "outputs": [],
   "source": [
    "## use np.where to find any indexes in the following array that is equal to zero\n",
    "arr4 = np.array([[-1, 2, 3, -31, 0 ],\n",
    "                 [4, 0, 5, 39.3,-37,],\n",
    "                 [5, 4, 0, 0, 1] ])"
   ]
  },
  {
   "cell_type": "code",
   "execution_count": 35,
   "metadata": {
    "id": "fnOEzvm6sIUf"
   },
   "outputs": [],
   "source": [
    "## use np.sum with the correct axis=? argument to take the sum of the following array\n",
    "## along each column\n",
    "\n",
    "arr5 = np.array([[-1, 2, 3, -31, 13 ],\n",
    "                 [14, 0, 5, 39.3,-37,],\n",
    "                 [5, -3, 0, 0, 1] ])"
   ]
  },
  {
   "cell_type": "markdown",
   "metadata": {
    "id": "BMUi9_rxeu_F"
   },
   "source": [
    "# **3. Linear Algebra Calculations in Numpy**\n",
    "\n",
    "Now that we know how to create and manipulate ndarrays, let's explore how to use them to actually solve some liear equations."
   ]
  },
  {
   "cell_type": "markdown",
   "metadata": {
    "id": "Hs_77nq8eNKk"
   },
   "source": [
    "## **3.A.  Matrix Addition and Multiplication with Numpy**\n",
    "\n",
    "NumPy provides a fast implementation of many linear algebra functions stored in ```np.linalg```.\n",
    "\n",
    "```numpy``` arrays also can be treated as matrices for arithmetic operations!\n",
    "Heres some examples of some basic arithmetic operations with two 2x2 matrices:"
   ]
  },
  {
   "cell_type": "code",
   "execution_count": 13,
   "metadata": {
    "cellView": "form",
    "colab": {
     "base_uri": "https://localhost:8080/"
    },
    "id": "fL8ejwYwzGMp",
    "outputId": "5d24a550-005d-43ec-ff2a-ce2e6642fde9"
   },
   "outputs": [
    {
     "name": "stdout",
     "output_type": "stream",
     "text": [
      "A:\n",
      "[[1 2]\n",
      " [3 4]]\n",
      "\n",
      "B:\n",
      "[[5 6]\n",
      " [7 8]]\n",
      "\n",
      "The result of the matrix multiplication (inner product) operation (A @ B:) is:\n",
      "\n",
      "[[19 22]\n",
      " [43 50]]\n",
      "\n",
      "The result of the element-wise multiplication operation (A * B:) is:\n",
      "\n",
      "[[ 5 12]\n",
      " [21 32]]\n",
      "\n",
      "The result of the element-wise division operation (A / B) is:\n",
      "\n",
      "[[0.2        0.33333333]\n",
      " [0.42857143 0.5       ]]\n",
      "\n",
      "The result of the scalar multiplication operation (n*A) is:\n",
      "\n",
      "[[ 5 10]\n",
      " [15 20]]\n",
      "\n",
      "The result of the matrix subtraction operation (A - B:) is:\n",
      "\n",
      "[[-4 -4]\n",
      " [-4 -4]]\n",
      "\n",
      "The result of the matrix addition operation (A + B:) is:\n",
      "\n",
      "[[ 6  8]\n",
      " [10 12]]\n",
      "\n",
      "The result of the scalar addition operation (n + A) is:\n",
      "\n",
      "[[6 7]\n",
      " [8 9]]\n",
      "\n"
     ]
    }
   ],
   "source": [
    "# Create a couple square matrices.\n",
    "A = np.array([[1, 2],\n",
    "              [3, 4]]) #matrix 1\n",
    "\n",
    "B = np.array([[5, 6],\n",
    "              [7, 8]]) #matrix 2\n",
    "n = 5\n",
    "\n",
    "# Now we can perform some operations on these matrices. To demonstrate this,\n",
    "# let's create a dictionary of examples, where the key is the operation, and \n",
    "# the value is the result of the operation.\n",
    "examples = {'matrix multiplication (inner product)': A @ B,\n",
    "            'element-wise multiplication': A * B,\n",
    "            'element-wise division': A/B,\n",
    "            'scalar multiplication': n*A,\n",
    "            'matrix subtraction': A - B,\n",
    "            'matrix addition': A + B,\n",
    "            'scalar addition': n + A,\n",
    "            }\n",
    "examples_str = {'matrix multiplication (inner product)': 'A @ B:',\n",
    "                'element-wise multiplication': 'A * B:',\n",
    "                'element-wise division': 'A / B',\n",
    "            'scalar multiplication': 'n*A',\n",
    "            'matrix subtraction': 'A - B:',\n",
    "            'matrix addition': 'A + B:',\n",
    "            'scalar addition': 'n + A',\n",
    "            }\n",
    "\n",
    "print(f'A:\\n{A}\\n')\n",
    "print(f'B:\\n{B}\\n')\n",
    "\n",
    "for dropdown in [\"matrix multiplication (inner product)\",\"element-wise multiplication\",\n",
    "                \"element-wise division\",\"scalar multiplication\", \"matrix subtraction\",\n",
    "                \"matrix addition\",\"scalar addition\"]:\n",
    "\n",
    "    print(f'The result of the {dropdown} operation ({examples_str[dropdown]}) is:\\n')\n",
    "    print(f'{examples[dropdown]}\\n')"
   ]
  },
  {
   "cell_type": "markdown",
   "metadata": {},
   "source": [
    "**Please note that the standard matrix-matrix multiplication of [A] and [B] (i.e., the ```inner product```) is given by A@B!  This is very different than for Matlab!**"
   ]
  },
  {
   "cell_type": "markdown",
   "metadata": {},
   "source": [
    "## **3.B. Solving Linear Equations**\n",
    "\n",
    "In many engineering tasks, you will need to solve a system of ```linear equations``` represented by $\\mathbf{Ax} = \\mathbf{b}$, where ($\\mathbf{A}$) is a matrix of coefficients, ($\\mathbf{x}$) is a vector of unknowns, and ($\\mathbf{b}$) is a vector of constants.\n",
    "\n",
    "To accomplish this task, you can use various methods in Python, particularly with the help of NumPy. Here are some examples of methods to solve such equations:"
   ]
  },
  {
   "cell_type": "code",
   "execution_count": null,
   "metadata": {},
   "outputs": [],
   "source": [
    "# Solving linear equation using NumPy's numpy.linalg.solve Method\n",
    "# Let's solve the following system of linear equations:\n",
    "# 3x + 4y + 2z = 10\n",
    "# 2x + 5y + 3z = 15\n",
    "# x + y + z = 6\n",
    "\n",
    "# We can represent this system of equations as a matrix equation Ax = b, where:\n",
    "# A = [[3, 4, 2], [2, 5, 3], [1, 1, 1]]\n",
    "# x = [[x], [y], [z]]\n",
    "# b = [[10], [15], [6]]\n",
    "\n",
    "# Let's define the matrix A and the vector b.\n",
    "A = np.array([[3, 4, 2], [2, 5, 3], [1, 1, 1]])\n",
    "b = np.array([10, 15, 6])\n",
    "\n",
    "# Now, we can solve the system of linear equations using NumPy's numpy.linalg.solve method.\n",
    "x = np.linalg.solve(A, b)\n",
    "\n",
    "# The solution x represents the values of x, y, and z that satisfy the system of linear equations.\n",
    "print(f'The solution to the system of linear equations is: x = {x[0]}, y = {x[1]}, z = {x[2]}')"
   ]
  },
  {
   "cell_type": "code",
   "execution_count": null,
   "metadata": {},
   "outputs": [],
   "source": [
    "\n",
    "# Let's verify the solution by substituting the values of x, y, and z back into the original equations.\n",
    "x, y, z = x\n",
    "eq1 = 3*x + 4*y + 2*z\n",
    "eq2 = 2*x + 5*y + 3*z\n",
    "eq3 = x + y + z\n",
    "\n",
    "print(f'Verifying the solution:')\n",
    "print(f'3x + 4y + 2z = {eq1} (should be 10)')\n",
    "print(f'2x + 5y + 3z = {eq2} (should be 15)')\n",
    "print(f'x + y + z = {eq3} (should be 6)')\n",
    "\n",
    "# Notice how we defined all the variables in one line. This is called tuple unpacking."
   ]
  },
  {
   "cell_type": "markdown",
   "metadata": {},
   "source": [
    "**Handling Singular Matrices**:\n",
    "If the matrix ($\\mathbf{A})$ is singular (i.e., it does not have an inverse), then ```np.linalg.solve``` will raise a ```LinAlgError```.\n",
    "\n",
    "In this case, there may be either **an infinite** number of exact solutions, or there are **no** exact solutions that will satisfy all equations at the same time. Let's see some examples:"
   ]
  },
  {
   "cell_type": "code",
   "execution_count": 60,
   "metadata": {},
   "outputs": [],
   "source": [
    "# Example of least squares fitting using NumPy's numpy.linalg.lstsq Method\n",
    "# Let's start wit the same system of linear equations as before:\n",
    "# 3x + 4y + 2z = 10\n",
    "# 2x + 5y + 3z = 15\n",
    "# x + y + z = 6\n",
    "# but this time, let's add two more equations:\n",
    "# 4x + 3y + 5z = 20\n",
    "# 5x + 6y + 4z = 25\n",
    "\n",
    "# We can represent this system of equations as a matrix equation Ax = b, where:\n",
    "# A2 = [[3, 4, 2], [2, 5, 3], [1, 1, 1], [4, 3, 5], [5, 6, 4]]\n",
    "# x = [[x], [y], [z]]\n",
    "\n",
    "# Let's define the matrix A and the vector b.\n",
    "A2 = np.array([[3, 4, 2], [2, 5, 3], [1, 1, 1], [4, 3, 5], [5, 6, 4]])\n",
    "b2 = np.array([10, 15, 6, 20, 25])"
   ]
  },
  {
   "cell_type": "code",
   "execution_count": null,
   "metadata": {},
   "outputs": [],
   "source": [
    "# Lets see what happens when we try to solve the system of equations using numpy.linalg.solve.\n",
    "x2 = np.linalg.solve(A2, b2)\n",
    "\n",
    "# We can see that we get a ValueError because the system of equations is overdetermined, meaning\n",
    "# that there are more equations than unknowns. "
   ]
  },
  {
   "cell_type": "code",
   "execution_count": null,
   "metadata": {},
   "outputs": [],
   "source": [
    "# Now, although we cannot find an exact solutions, we can find a \"best\" solution for\n",
    "#  the system of linear equations using NumPy's numpy.linalg.lstsq method.\n",
    "x, residuals, rank, s = np.linalg.lstsq(A2, b2, rcond=None)\n",
    "\n",
    "# The solution x represents the values of x, y, and z that minimize the sum of the \n",
    "# squared residuals.\n",
    "print(f'The solution to the least squares problem is: x = {x}')\n"
   ]
  },
  {
   "cell_type": "code",
   "execution_count": null,
   "metadata": {},
   "outputs": [],
   "source": [
    "\n",
    "# Let's verify the solution by substituting the values of x, y, and z back into the original equations.\n",
    "x, y, z = x\n",
    "eq1 = 3*x + 4*y + 2*z\n",
    "eq2 = 2*x + 5*y + 3*z\n",
    "eq3 = x + y + z\n",
    "eq4 = 4*x + 3*y + 5*z\n",
    "eq5 = 5*x + 6*y + 4*z\n",
    "\n",
    "print(f'Verifying the solution:')\n",
    "print(f'3x + 4y + 2z = {eq1} (should be about 10)')\n",
    "print(f'2x + 5y + 3z = {eq2} (should be about 15)')\n",
    "print(f'x + y + z = {eq3} (should be about 6)')\n",
    "print(f'4x + 3y + 5z = {eq4} (should be about 20)')\n",
    "print(f'5x + 6y + 4z = {eq5} (should be about 25)')\n",
    "\n",
    "# Total Squared Error\n",
    "total_squared_error = residuals[0]\n",
    "print(f'The total squared error is: {total_squared_error}')"
   ]
  },
  {
   "cell_type": "code",
   "execution_count": 65,
   "metadata": {},
   "outputs": [],
   "source": [
    "# Example of a linear equation where the solution is not unique\n",
    "# Let's consider the following system of linear equations:\n",
    "# x + y + z = 6\n",
    "# 2x + 2y + z = 12\n",
    "# 3x + 3y + 2z = 18\n",
    "\n",
    "# We can represent this system of equations as a matrix equation A3x = b3, where:\n",
    "# A3 = [[1, 1, 1], [2, 2, 1], [3, 3, 1]]\n",
    "# x = [[x], [y], [z]]\n",
    "\n",
    "# Let's define the matrix A and the vector b.\n",
    "A3 = np.array([[1, 1, 1], [2, 2, 1], [3, 3, 2]])\n",
    "b3 = np.array([6, 12, 18])"
   ]
  },
  {
   "cell_type": "code",
   "execution_count": null,
   "metadata": {},
   "outputs": [],
   "source": [
    "# Let's try to solve the system of linear equations using NumPy's numpy.linalg.solve method.\n",
    "x = np.linalg.solve(A3, b3)\n",
    "print(f'The solution to the system of linear equations is: x = {x[0]}, y = {x[1]}, z = {x[2]}')\n",
    "\n",
    "# in this case, the system of linear equations does not have a unique solution because the third \n",
    "# equation is a linear combination of the first two equations. This means that the third equation\n",
    "# does not provide any new information and is redundant."
   ]
  },
  {
   "cell_type": "code",
   "execution_count": null,
   "metadata": {},
   "outputs": [],
   "source": [
    "# In this case, we cannot find a unique solution to the system of linear equations, but we can ask\n",
    "# NumPy to find the solution that minimizes the size of the solution vector x. This is called the\n",
    "# least squares solution.\n",
    "\n",
    "# Let's find the least squares solution using NumPy's numpy.linalg.lstsq method.\n",
    "x, residuals, rank, s = np.linalg.lstsq(A3, b3, rcond=None)\n",
    "print(f'The least squares solution to the system of linear equations is: x = {x}')"
   ]
  },
  {
   "cell_type": "markdown",
   "metadata": {},
   "source": [
    "## **3.C. Linear Independence**\n",
    "\n",
    "It is worth thinking a bit more about the previous three examples using the concept of ```linear independence```.  Let's start with the definition.\n",
    "\n",
    "**In the Context of Vectors:**\n",
    "- **Definition**: A set of vectors (or functions) is said to be linearly independent if no vector in the set can be written as a linear combination of the others.\n",
    "- **Example**: Consider the vectors $\\mathbf{a}_1, \\mathbf{a}_2, \\mathbf{a}_3 \\in \\mathbb{R}^3$. These vectors are linearly independent if the **only** solution to the equation $x_1 \\mathbf{a}_1 + x_2 \\mathbf{a}_2 + x_3 \\mathbf{a}_3 = \\mathbf{0}$ is $x_1 = x_2 = x_3 = 0$.\n",
    "\n",
    "**In the Context of Matrices:**\n",
    "- **Definition**: The columns (or rows) of a matrix are linearly independent if no column (or row) can be expressed as a linear combination of the others.\n",
    "- **Example**: Consider a matrix $\\mathbf{A}$ with columns $\\mathbf{a}_1, \\mathbf{a}_2, \\mathbf{a}_3 $. These columns are linearly independent if the only solution to the equation $ \\mathbf{A} \\mathbf{x} = \\mathbf{0} $ (where $\\mathbf{x}$ is a vector of coefficients) is the trivial solution $ \\mathbf{x} = \\mathbf{0} $.\n",
    "\n",
    "If you look close, you should see that these two definitions were exactly the same -- the only difference is the form with which we wrote the linear equations.\n",
    "\n",
    "Let's look at the matrices on the left hand side for the examples above:"
   ]
  },
  {
   "cell_type": "code",
   "execution_count": null,
   "metadata": {},
   "outputs": [],
   "source": [
    "# In the first problem above, we had the matrix:\n",
    "# A1 = [[3, 4, 2], [2, 5, 3], [1, 1, 1]]\n",
    "A1 = np.array([[3, 4, 2], [2, 5, 3], [1, 1, 1]])\n",
    "\n",
    "# To check for linear independence, we can use the numpy.linalg.matrix_rank method.\n",
    "rank = np.linalg.matrix_rank(A1)\n",
    "print(f'The rank of the {A1.shape} matrix A1 is: {rank}')\n",
    "\n",
    "# If the rank of the matrix is equal to the number of rows, then the rows are linearly independent.\n",
    "# In this case, A1 is a 3x3 matrix with rank 3, so the rows are linearly independent."
   ]
  },
  {
   "cell_type": "code",
   "execution_count": null,
   "metadata": {},
   "outputs": [],
   "source": [
    "# In the second problem above, we had the matrix:\n",
    "# A2 = [[3, 4, 2], [2, 5, 3], [1, 1, 1], [4, 3, 5], [5, 6, 4]]\n",
    "A2 = np.array([[3, 4, 2], [2, 5, 3], [1, 1, 1], [4, 3, 5], [5, 6, 4]])\n",
    "\n",
    "# To check for linear independence, we can use the numpy.linalg.matrix_rank method.\n",
    "rank = np.linalg.matrix_rank(A2)\n",
    "print(f'The rank of the {A2.shape} matrix A2 is: {rank}')\n",
    "\n",
    "# If the rank of the matrix is equal to the number of rows, then the rows are linearly independent.\n",
    "# In this case, A2 is a 5x3 matrix with rank 3, so the rows are NOT linearly independent."
   ]
  },
  {
   "cell_type": "markdown",
   "metadata": {},
   "source": [
    "### **3.C.1. Augmented Form for Linear Equations**\n",
    "The ```augmented form``` for a system of linear equations is a compact way to represent the system using matrices. It combines the coefficient matrix and the constants from the right-hand side of the equations into a single matrix. This form is particularly useful for applying matrix operations and solving the system using methods like Gaussian elimination.\n",
    "\n",
    "Starting with the matrix form that we have already seen $\\mathbf{y} = \\mathbf{A} \\mathbf{x} + \\mathbf{b}$,\n",
    "the augmented form combines the coefficient matrix $\\mathbf{A}$ and the constants/bias vector $\\mathbf{b}$ into a single matrix:\n",
    "$$\n",
    "[\\mathbf{A} | \\mathbf{b}] = \\begin{bmatrix}\n",
    "a_{11} & a_{12} & \\cdots & a_{1n} & | & b_1 \\\\\n",
    "a_{21} & a_{22} & \\cdots & a_{2n} & | & b_2 \\\\\n",
    "\\vdots & \\vdots & \\ddots & \\vdots & | & \\vdots \\\\\n",
    "a_{m1} & a_{m2} & \\cdots & a_{mn} & | & b_m\n",
    "\\end{bmatrix},\n",
    "$$\n",
    "which allows us to write the linear equation in the form:\n",
    "$$\n",
    "\\begin{bmatrix}\n",
    "y_1\\\\\n",
    "y_2\\\\\n",
    "\\vdots\\\\\n",
    "y_m\\\\\n",
    "\\end{bmatrix}=\\begin{bmatrix}\n",
    "a_{11} & a_{12} & \\cdots & a_{1n} & | & b_1 \\\\\n",
    "a_{21} & a_{22} & \\cdots & a_{2n} & | & b_2 \\\\\n",
    "\\vdots & \\vdots & \\ddots & \\vdots & | & \\vdots \\\\\n",
    "a_{m1} & a_{m2} & \\cdots & a_{mn} & | & b_m\n",
    "\\end{bmatrix}\n",
    "\\begin{bmatrix}\n",
    "{x}_1\\\\\n",
    "{x}_2\\\\\n",
    "\\vdots\\\\\n",
    "{x}_n\\\\\n",
    "1\n",
    "\\end{bmatrix}\n",
    "$$\n",
    "\n",
    "We will use this equation later, but for now, we only need the augmented matrix $[\\mathbf{A}|\\mathbf{b}]$."
   ]
  },
  {
   "cell_type": "markdown",
   "metadata": {},
   "source": [
    "**Example**\n",
    "\n",
    "Consider the following system of linear equations:\n",
    "\\begin{cases}\n",
    "2x_1 + 3x_2 = 5 \\\\\n",
    "4x_1 + 6x_2 = 10\n",
    "\\end{cases}\n",
    "\n",
    "The coefficient matrix $\\mathbf{A}$, the variables vector $\\mathbf{x}$, and the bias vector $\\mathbf{b}$ are:\n",
    "$$\n",
    "\\mathbf{A} = \\begin{bmatrix}\n",
    "2 & 3 \\\\\n",
    "4 & 6\n",
    "\\end{bmatrix}, \\quad\n",
    "\\mathbf{x} = \\begin{bmatrix}\n",
    "x_1 \\\\\n",
    "x_2\n",
    "\\end{bmatrix}, \\quad\n",
    "\\mathbf{b} = \\begin{bmatrix}\n",
    "5 \\\\\n",
    "10\n",
    "\\end{bmatrix}\n",
    "$$\n",
    "\n",
    "The augmented matrix is:\n",
    "$$\n",
    "[\\mathbf{A} | \\mathbf{b}] = \\begin{bmatrix}\n",
    "2 & 3 & | & 5 \\\\\n",
    "4 & 6 & | & 10\n",
    "\\end{bmatrix}\n",
    "$$\n",
    "\n",
    "**Applications**\n",
    "\n",
    "The augmented matrix form is useful for:\n",
    "- **Gaussian Elimination**: Solving systems of linear equations by transforming the augmented matrix into row echelon form or reduced row echelon form.\n",
    "- **Matrix Operations**: Applying row operations to solve the system or find the inverse of the coefficient matrix.\n",
    "- **Linear Algebra Software**: Many computational tools and libraries use the augmented matrix form to solve linear systems efficiently.\n",
    "\n",
    "By using the augmented matrix form, we can systematically apply matrix operations to solve the system of linear equations and gain insights into the properties of the system."
   ]
  },
  {
   "cell_type": "markdown",
   "metadata": {},
   "source": [
    "\n",
    "### **3.C.2 Using Linear Independence to Check for Existence and Uniqueness of Solutions in Linear Systems**\n",
    "\n",
    "The ```existence``` and ```uniqueness``` of solutions to a system of linear equations $\\mathbf{Ax} = \\mathbf{b}$ depend on the rank and size of the matrix $\\mathbf{A}$ and the augmented matrix $[\\mathbf{A}|\\mathbf{b}]$. Here’s how:\n",
    "\n",
    "**Definitions**:\n",
    "- **Rank**: The rank of a matrix $\\mathbf{A}$ is the maximum number of linearly independent rows or columns in $\\mathbf{A}$.\n",
    "- **Size**: The size of a matrix $\\mathbf{A}$ is given by its dimensions, $(m \\times n)$, where \\(m\\) is the number of rows and \\(n\\) is the number of columns."
   ]
  },
  {
   "cell_type": "markdown",
   "metadata": {},
   "source": [
    "**Scenarios**:\n",
    "\n",
    "1. **Unique Solution**:\n",
    "   - **Condition**: The system ($\\mathbf{Ax}=\\mathbf{b}$) has a **unique** solution if and only if the matrix $\\mathbf{A}$ has full column rank and the number of equations \\(m\\) is equal to the number of unknowns \\(n\\) (i.e., \\(m = n\\)).\n",
    "   - **Implication**: This means that the rank of $\\mathbf{A}$ is \\(n\\).\n",
    "   - **Example**: For a ($\\mathbf{Ax}=\\mathbf{b}$) matrix $\\mathbf{A}$ with rank 3, the system ($\\mathbf{Ax}=\\mathbf{b}$) has a unique solution."
   ]
  },
  {
   "cell_type": "markdown",
   "metadata": {},
   "source": [
    "2. **No Solution**:\n",
    "   - **Condition**: The system ($\\mathbf{Ax}=\\mathbf{b}$) has **no solution** if the rank of the augmented matrix $[\\mathbf{A}|\\mathbf{b}]$ is greater than the rank of $\\mathbf{A}$.\n",
    "   - **Implication**: This indicates that the equations are **inconsistent**.  They cannot all be solved exactly at the same time.  Instead, we will need to define a ```loss function``` such as the ```least square error``` and try to minimize that like we did above. \n",
    "   - **Example**: For a $3 \\times 3$ matrix $\\mathbf{A}$ with rank 2, if the augmented matrix $[\\mathbf{A}|\\mathbf{b}]$ has rank 3, the system has no solution."
   ]
  },
  {
   "cell_type": "markdown",
   "metadata": {},
   "source": [
    "3. **Infinite Solutions**:\n",
    "   - **Condition**: The system ($\\mathbf{Ax}=\\mathbf{b}$) has infinitely many solutions if the rank of $\\mathbf{A}$ is less than the number of unknowns $n$ (i.e., rank($\\mathbf{A})<n$) and the rank of $\\mathbf{A}$ is equal to the rank of the augmented matrix $[\\mathbf{A}|\\mathbf{b}]$.\n",
    "   - **Implication**: This means there are free variables that can take on an infinite number of values. Often, if we want to choose a \"best\" solution, we pick the values that minimize some loss function applied to the variables, such as the minimum squared sum of the variables.\n",
    "   - **Example**: For a $3 \\times 4$ matrix $\\mathbf{A}$ with rank 3, the system ($\\mathbf{Ax}=\\mathbf{b}$) has infinitely many solutions."
   ]
  },
  {
   "cell_type": "markdown",
   "metadata": {},
   "source": [
    "**Summary**:\n",
    "\n",
    "Understanding the rank and size of a matrix helps determine whether a system of linear equations has a unique solution, no solution, or infinitely many solutions.\n",
    "\n",
    "- **Unique Solution**: \\(m = n\\) and rank($\\mathbf{A}$) = n.\n",
    "- **No Solution**: rank \\([$\\mathbf{A}$|$\\mathbf{b}$]\\) > rank $\\mathbf{A}$.\n",
    "- **Infinite Solutions**: rank \\($\\mathbf{A}$ < n\\) and rank \\($\\mathbf{A}$ =\\) rank \\([$\\mathbf{A}$|$\\mathbf{b}$]\\).\n"
   ]
  },
  {
   "cell_type": "markdown",
   "metadata": {},
   "source": [
    "## **3.D. Other Helpful Linear Algebra Functions**"
   ]
  },
  {
   "cell_type": "markdown",
   "metadata": {
    "id": "1H5V6SCT2Eee"
   },
   "source": [
    "Here is a short list of linear algebra functionality in numpy.  We will use some of these later in the course.\n",
    "\n",
    "| Method    | Description  |\n",
    "| ----------- | ----------- |\n",
    "| np.cross | cross product of vectors|\n",
    "| np.dot | dot product of arrays |\n",
    "| np.linalg.det | determinant of a matrix |\n",
    "| np.linalg.inner | inner product |\n",
    "| np.linalg.outer | outer product|\n",
    "| np.matmul  | matrix product |\n",
    "| np.trace | trace of a matrix  |\n",
    "| np.linalg.norm | norm of a vector or matrix, takes arguments for nuclear/frobenius |\n",
    "| np.linalg.matrix_rank | rank of a matrix |\n",
    "| np.linalg.cond | condition of a matrix |\n",
    "| np.linalg.inv  | matrix inverse (multiplicative) |  \n",
    "| np.linalg.pinv  | matrix psuedo-inverse (Moore-Penrose) |\n",
    "| np.linalg.svd | Single Value Decomposition |\n",
    "| np.linalg.null* | Null space |\n",
    "\n",
    "For more specific commands check out the linalg module in numpy:\n",
    "https://numpy.org/doc/stable/reference/routines.linalg.html"
   ]
  },
  {
   "cell_type": "markdown",
   "metadata": {},
   "source": [
    "### **Quiz to practice linear algebra commands in numpy.**"
   ]
  },
  {
   "cell_type": "code",
   "execution_count": null,
   "metadata": {},
   "outputs": [],
   "source": [
    "importlib.reload(BIOM480A5_Quizzes)\n",
    "from BIOM480A5_Quizzes import multiple_choice_quiz\n",
    "multiple_choice_quiz('linear_equations')"
   ]
  },
  {
   "cell_type": "markdown",
   "metadata": {},
   "source": [
    "# 4. Using Linear Algebra to Fit a Polynomial to Data\n",
    "\n",
    "In this section, we will use the tools we have learned to fit a polynomial to some data.  This is a common task in data analysis and machine learning.  We will use the ```least squares``` method that we discussed above to find the best fit polynomial to the data.  Later in the course, we will discuss why we are using this method and how it is related to the ```maximum likelihood``` method that we will use to fit models to data.\n",
    "\n",
    "## **4.A.  Generating Data**\n",
    "\n",
    "Let's start by generating some data that we can fit a polynomial to.  We will use the ```numpy``` function ```np.random.randn``` to generate some random data points.  We will then use the ```numpy``` function ```np.polyfit``` to fit a polynomial to the data."
   ]
  },
  {
   "cell_type": "code",
   "execution_count": 11,
   "metadata": {},
   "outputs": [],
   "source": [
    "# Generate some random data for a linear polynomial regression problem.\n",
    "np.random.seed(0)\n",
    "# Let's generate random values 'x' between -3 and 3\n",
    "x = 6 * np.random.rand(100, 1) - 3\n",
    "# Let's generate the corresponding values 'y' using the linear equation y = 3x**2 + 2x + 1 + noise\n",
    "y = 3*x**2 + 2*x + 1 + np.random.randn(100, 1)"
   ]
  },
  {
   "cell_type": "code",
   "execution_count": 14,
   "metadata": {},
   "outputs": [
    {
     "data": {
      "image/png": "[encoded data removed]",
      "text/plain": [
       "<Figure size 1000x600 with 1 Axes>"
      ]
     },
     "metadata": {},
     "output_type": "display_data"
    }
   ],
   "source": [
    "# Let's plot the data to visualize the relationship between x and y.\n",
    "plt.figure(figsize=(10, 6))\n",
    "plt.scatter(x, y, color='blue', label='Data points')\n",
    "plt.xlabel('x')\n",
    "plt.ylabel('y')\n",
    "plt.title('Random Data for Polynomial Regression')\n",
    "plt.legend()\n",
    "plt.grid(True)\n",
    "plt.show()"
   ]
  },
  {
   "cell_type": "code",
   "execution_count": 12,
   "metadata": {},
   "outputs": [],
   "source": [
    "# Now, lets construct the matrix A and the vector b for the linear polynomial regression problem.\n",
    "# We want to fit a polynomial of the form y = ax^2 + bx + c to the data.\n",
    "# This is a linear regression problem because the unknowns are the coefficients a, b, and c.\n",
    "# We can represent the polynomial as a linear equation of the form y = Xw, where:\n",
    "# X = [[x^2, x, 1]]\n",
    "# w = [[a], [b], [c]]\n",
    "# y = [[y]]\n",
    "\n",
    "# For this problem, we are only going to use the values of x that are less than 0 to fit the polynomial.\n",
    "x_less_than_0 = x[x < 0]\n",
    "\n",
    "# Let's define the matrix X and the vector y.  We will use the numpy.c_ function, which concatenates columns.\n",
    "X = np.c_[x_less_than_0**2, x_less_than_0, np.ones(x_less_than_0.shape)]\n",
    "y_x_less_than_0 = y[x < 0]\n",
    "\n",
    "# Now, we can solve the linear regression problem using the least squares method we discussed earlier.\n",
    "w, residuals, rank, s = np.linalg.lstsq(X, y_x_less_than_0, rcond=None)\n",
    "\n",
    "# The solution w represents the coefficients a, b, and c that minimize the sum of the squared residuals.\n",
    "a2, b2, c2 = w"
   ]
  },
  {
   "cell_type": "code",
   "execution_count": null,
   "metadata": {},
   "outputs": [],
   "source": [
    "# Now, let's plot the data points and the fitted polynomial.\n",
    "# Create a vector of x values for the fitted polynomial.\n",
    "x_fit = np.linspace(-3, 3, 100)\n",
    "\n",
    "plt.figure(figsize=(10, 6))\n",
    "plt.scatter(x, y, color='blue', label='Data points')\n",
    "plt.plot(x_fit, a2*x_fit**2 + b2*x_fit + c2, color='red', label='Fitted polynomial')\n",
    "plt.xlabel('x')\n",
    "plt.ylabel('y')\n",
    "plt.title(f'Polynomial Regression, {a2}*x^2 + {b2}*x + {c2}')\n",
    "plt.legend()\n",
    "plt.grid(True)\n",
    "plt.show()"
   ]
  },
  {
   "cell_type": "markdown",
   "metadata": {},
   "source": []
  },
  {
   "cell_type": "code",
   "execution_count": null,
   "metadata": {},
   "outputs": [],
   "source": [
    "# What if we used a higher order polynomial to fit the data?\n",
    "# Let's try fitting a polynomial of the form y = ax^4 + bx^3 + cx^2 + dx + e to the data.\n",
    "# This is still a linear regression problem because the unknowns are the coefficients a, b, c, d, and e.\n",
    "# We can represent the polynomial as a linear equation of the form y = Xw, where:\n",
    "# X = [[x^4, x^3, x^2, x, 1]]\n",
    "# w = [[a], [b], [c], [d], [e]]\n",
    "# y = [[y]]\n",
    "\n",
    "# Let's define the matrix X and the vector y for the higher order polynomial regression problem.\n",
    "X1 = np.c_[x_less_than_0, np.ones(x_less_than_0.shape)]\n",
    "X3 = np.c_[x_less_than_0**3, x_less_than_0**2, x_less_than_0, np.ones(x_less_than_0.shape)]\n",
    "X4 = np.c_[x_less_than_0**4, x_less_than_0**3, x_less_than_0**2, x_less_than_0, np.ones(x_less_than_0.shape)]\n",
    "\n",
    "# Now, we can solve the linear regression problem using the least squares method we discussed earlier.\n",
    "w1, residuals, rank, s = np.linalg.lstsq(X1, y_x_less_than_0, rcond=None)\n",
    "w3, residuals, rank, s = np.linalg.lstsq(X3, y_x_less_than_0, rcond=None)\n",
    "w4, residuals, rank, s = np.linalg.lstsq(X4, y_x_less_than_0, rcond=None)\n",
    "\n",
    "# The solution w represents the coefficients a, b, c, d, and e that minimize the sum of the squared residuals.\n",
    "a1, b1 = w1\n",
    "a3, b3, c3, d3 = w3\n",
    "a4, b4, c4, d4, e4 = w4\n",
    "\n",
    "# Now, let's plot the data points and the fitted polynomial along with the first example.\n",
    "\n",
    "plt.figure(figsize=(10, 6))\n",
    "plt.scatter(x, y, color='blue', label='Data points')\n",
    "plt.plot(x_fit, a1*x_fit + b1, color='green', label='Fitted polynomial (degree 1)')\n",
    "plt.plot(x_fit, a2*x_fit**2 + b2*x_fit + c2, color='red', label='Fitted polynomial (degree 2)')\n",
    "plt.plot(x_fit, a3*x_fit**3 + b3*x_fit**2 + c3*x_fit**1 + d3, color='cyan', label='Fitted polynomial (degree 3)')\n",
    "plt.plot(x_fit, a4*x_fit**4 + b4*x_fit**3 + c4*x_fit**2 + d4*x_fit + e4, color='blue', label='Fitted polynomial (degree 4)')\n",
    "plt.xlabel('x')\n",
    "plt.ylabel('y')\n",
    "plt.title('Polynomial Regression')\n",
    "plt.legend()\n"
   ]
  },
  {
   "cell_type": "code",
   "execution_count": null,
   "metadata": {},
   "outputs": [],
   "source": []
  }
 ],
 "metadata": {
  "colab": {
   "provenance": [],
   "toc_visible": true
  },
  "kernelspec": {
   "display_name": "BIOM480A5",
   "language": "python",
   "name": "python3"
  },
  "language_info": {
   "codemirror_mode": {
    "name": "ipython",
    "version": 3
   },
   "file_extension": ".py",
   "mimetype": "text/x-python",
   "name": "python",
   "nbconvert_exporter": "python",
   "pygments_lexer": "ipython3",
   "version": "3.10.16"
  },
  "widgets": {
   "application/vnd.jupyter.widget-state+json": {
    "054083162da645f9b247be27173efe1e": {
     "model_module": "@jupyter-widgets/controls",
     "model_module_version": "1.5.0",
     "model_name": "FloatProgressModel",
     "state": {
      "_dom_classes": [],
      "_model_module": "@jupyter-widgets/controls",
      "_model_module_version": "1.5.0",
      "_model_name": "FloatProgressModel",
      "_view_count": null,
      "_view_module": "@jupyter-widgets/controls",
      "_view_module_version": "1.5.0",
      "_view_name": "ProgressView",
      "bar_style": "success",
      "description": "",
      "description_tooltip": null,
      "layout": "IPY_MODEL_3658851275694ee1a15f9d5a305c1e22",
      "max": 35624,
      "min": 0,
      "orientation": "horizontal",
      "style": "IPY_MODEL_3e7a113c1fa34f8b9810b782447b3e8c",
      "value": 35624
     }
    },
    "0fb04728349c4dde94aaf9897492743f": {
     "model_module": "@jupyter-widgets/controls",
     "model_module_version": "1.5.0",
     "model_name": "HTMLModel",
     "state": {
      "_dom_classes": [],
      "_model_module": "@jupyter-widgets/controls",
      "_model_module_version": "1.5.0",
      "_model_name": "HTMLModel",
      "_view_count": null,
      "_view_module": "@jupyter-widgets/controls",
      "_view_module_version": "1.5.0",
      "_view_name": "HTMLView",
      "description": "",
      "description_tooltip": null,
      "layout": "IPY_MODEL_80c5f442014946df8957cc48dcca541e",
      "placeholder": "​",
      "style": "IPY_MODEL_c6017ca79bae42bfa03eb72781ab031f",
      "value": "100%"
     }
    },
    "1b8264c7ea5a421584e4871c2d8062ea": {
     "model_module": "@jupyter-widgets/base",
     "model_module_version": "1.2.0",
     "model_name": "LayoutModel",
     "state": {
      "_model_module": "@jupyter-widgets/base",
      "_model_module_version": "1.2.0",
      "_model_name": "LayoutModel",
      "_view_count": null,
      "_view_module": "@jupyter-widgets/base",
      "_view_module_version": "1.2.0",
      "_view_name": "LayoutView",
      "align_content": null,
      "align_items": null,
      "align_self": null,
      "border": null,
      "bottom": null,
      "display": null,
      "flex": null,
      "flex_flow": null,
      "grid_area": null,
      "grid_auto_columns": null,
      "grid_auto_flow": null,
      "grid_auto_rows": null,
      "grid_column": null,
      "grid_gap": null,
      "grid_row": null,
      "grid_template_areas": null,
      "grid_template_columns": null,
      "grid_template_rows": null,
      "height": null,
      "justify_content": null,
      "justify_items": null,
      "left": null,
      "margin": null,
      "max_height": null,
      "max_width": null,
      "min_height": null,
      "min_width": null,
      "object_fit": null,
      "object_position": null,
      "order": null,
      "overflow": null,
      "overflow_x": null,
      "overflow_y": null,
      "padding": null,
      "right": null,
      "top": null,
      "visibility": null,
      "width": null
     }
    },
    "1c63e0a213d2422fad1013a4c7dc40c6": {
     "model_module": "@jupyter-widgets/controls",
     "model_module_version": "1.5.0",
     "model_name": "HTMLModel",
     "state": {
      "_dom_classes": [],
      "_model_module": "@jupyter-widgets/controls",
      "_model_module_version": "1.5.0",
      "_model_name": "HTMLModel",
      "_view_count": null,
      "_view_module": "@jupyter-widgets/controls",
      "_view_module_version": "1.5.0",
      "_view_name": "HTMLView",
      "description": "",
      "description_tooltip": null,
      "layout": "IPY_MODEL_cee19a8eb4454b238b640ea1f7669a2f",
      "placeholder": "​",
      "style": "IPY_MODEL_7abc07cf6e164036be85a891356d0a79",
      "value": " 35624/35624 [00:40&lt;00:00, 870.16it/s]"
     }
    },
    "3658851275694ee1a15f9d5a305c1e22": {
     "model_module": "@jupyter-widgets/base",
     "model_module_version": "1.2.0",
     "model_name": "LayoutModel",
     "state": {
      "_model_module": "@jupyter-widgets/base",
      "_model_module_version": "1.2.0",
      "_model_name": "LayoutModel",
      "_view_count": null,
      "_view_module": "@jupyter-widgets/base",
      "_view_module_version": "1.2.0",
      "_view_name": "LayoutView",
      "align_content": null,
      "align_items": null,
      "align_self": null,
      "border": null,
      "bottom": null,
      "display": null,
      "flex": null,
      "flex_flow": null,
      "grid_area": null,
      "grid_auto_columns": null,
      "grid_auto_flow": null,
      "grid_auto_rows": null,
      "grid_column": null,
      "grid_gap": null,
      "grid_row": null,
      "grid_template_areas": null,
      "grid_template_columns": null,
      "grid_template_rows": null,
      "height": null,
      "justify_content": null,
      "justify_items": null,
      "left": null,
      "margin": null,
      "max_height": null,
      "max_width": null,
      "min_height": null,
      "min_width": null,
      "object_fit": null,
      "object_position": null,
      "order": null,
      "overflow": null,
      "overflow_x": null,
      "overflow_y": null,
      "padding": null,
      "right": null,
      "top": null,
      "visibility": null,
      "width": null
     }
    },
    "3e7a113c1fa34f8b9810b782447b3e8c": {
     "model_module": "@jupyter-widgets/controls",
     "model_module_version": "1.5.0",
     "model_name": "ProgressStyleModel",
     "state": {
      "_model_module": "@jupyter-widgets/controls",
      "_model_module_version": "1.5.0",
      "_model_name": "ProgressStyleModel",
      "_view_count": null,
      "_view_module": "@jupyter-widgets/base",
      "_view_module_version": "1.2.0",
      "_view_name": "StyleView",
      "bar_color": null,
      "description_width": ""
     }
    },
    "7abc07cf6e164036be85a891356d0a79": {
     "model_module": "@jupyter-widgets/controls",
     "model_module_version": "1.5.0",
     "model_name": "DescriptionStyleModel",
     "state": {
      "_model_module": "@jupyter-widgets/controls",
      "_model_module_version": "1.5.0",
      "_model_name": "DescriptionStyleModel",
      "_view_count": null,
      "_view_module": "@jupyter-widgets/base",
      "_view_module_version": "1.2.0",
      "_view_name": "StyleView",
      "description_width": ""
     }
    },
    "80c5f442014946df8957cc48dcca541e": {
     "model_module": "@jupyter-widgets/base",
     "model_module_version": "1.2.0",
     "model_name": "LayoutModel",
     "state": {
      "_model_module": "@jupyter-widgets/base",
      "_model_module_version": "1.2.0",
      "_model_name": "LayoutModel",
      "_view_count": null,
      "_view_module": "@jupyter-widgets/base",
      "_view_module_version": "1.2.0",
      "_view_name": "LayoutView",
      "align_content": null,
      "align_items": null,
      "align_self": null,
      "border": null,
      "bottom": null,
      "display": null,
      "flex": null,
      "flex_flow": null,
      "grid_area": null,
      "grid_auto_columns": null,
      "grid_auto_flow": null,
      "grid_auto_rows": null,
      "grid_column": null,
      "grid_gap": null,
      "grid_row": null,
      "grid_template_areas": null,
      "grid_template_columns": null,
      "grid_template_rows": null,
      "height": null,
      "justify_content": null,
      "justify_items": null,
      "left": null,
      "margin": null,
      "max_height": null,
      "max_width": null,
      "min_height": null,
      "min_width": null,
      "object_fit": null,
      "object_position": null,
      "order": null,
      "overflow": null,
      "overflow_x": null,
      "overflow_y": null,
      "padding": null,
      "right": null,
      "top": null,
      "visibility": null,
      "width": null
     }
    },
    "8fa5a4cd197c4a19b703b9e3178d546e": {
     "model_module": "@jupyter-widgets/controls",
     "model_module_version": "1.5.0",
     "model_name": "HBoxModel",
     "state": {
      "_dom_classes": [],
      "_model_module": "@jupyter-widgets/controls",
      "_model_module_version": "1.5.0",
      "_model_name": "HBoxModel",
      "_view_count": null,
      "_view_module": "@jupyter-widgets/controls",
      "_view_module_version": "1.5.0",
      "_view_name": "HBoxView",
      "box_style": "",
      "children": [
       "IPY_MODEL_0fb04728349c4dde94aaf9897492743f",
       "IPY_MODEL_054083162da645f9b247be27173efe1e",
       "IPY_MODEL_1c63e0a213d2422fad1013a4c7dc40c6"
      ],
      "layout": "IPY_MODEL_1b8264c7ea5a421584e4871c2d8062ea"
     }
    },
    "c6017ca79bae42bfa03eb72781ab031f": {
     "model_module": "@jupyter-widgets/controls",
     "model_module_version": "1.5.0",
     "model_name": "DescriptionStyleModel",
     "state": {
      "_model_module": "@jupyter-widgets/controls",
      "_model_module_version": "1.5.0",
      "_model_name": "DescriptionStyleModel",
      "_view_count": null,
      "_view_module": "@jupyter-widgets/base",
      "_view_module_version": "1.2.0",
      "_view_name": "StyleView",
      "description_width": ""
     }
    },
    "cee19a8eb4454b238b640ea1f7669a2f": {
     "model_module": "@jupyter-widgets/base",
     "model_module_version": "1.2.0",
     "model_name": "LayoutModel",
     "state": {
      "_model_module": "@jupyter-widgets/base",
      "_model_module_version": "1.2.0",
      "_model_name": "LayoutModel",
      "_view_count": null,
      "_view_module": "@jupyter-widgets/base",
      "_view_module_version": "1.2.0",
      "_view_name": "LayoutView",
      "align_content": null,
      "align_items": null,
      "align_self": null,
      "border": null,
      "bottom": null,
      "display": null,
      "flex": null,
      "flex_flow": null,
      "grid_area": null,
      "grid_auto_columns": null,
      "grid_auto_flow": null,
      "grid_auto_rows": null,
      "grid_column": null,
      "grid_gap": null,
      "grid_row": null,
      "grid_template_areas": null,
      "grid_template_columns": null,
      "grid_template_rows": null,
      "height": null,
      "justify_content": null,
      "justify_items": null,
      "left": null,
      "margin": null,
      "max_height": null,
      "max_width": null,
      "min_height": null,
      "min_width": null,
      "object_fit": null,
      "object_position": null,
      "order": null,
      "overflow": null,
      "overflow_x": null,
      "overflow_y": null,
      "padding": null,
      "right": null,
      "top": null,
      "visibility": null,
      "width": null
     }
    }
   }
  }
 },
 "nbformat": 4,
 "nbformat_minor": 4
}
